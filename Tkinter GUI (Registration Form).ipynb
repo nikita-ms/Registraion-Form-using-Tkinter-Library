{
 "cells": [
  {
   "cell_type": "markdown",
   "id": "fadf7327",
   "metadata": {},
   "source": [
    "### Registration Form"
   ]
  },
  {
   "cell_type": "code",
   "execution_count": 1,
   "id": "bbf10fbb",
   "metadata": {},
   "outputs": [],
   "source": [
    "# 1. Tkinter\n",
    "import tkinter as tk\n",
    "from tkinter import *"
   ]
  },
  {
   "cell_type": "code",
   "execution_count": 22,
   "id": "1dd7841e",
   "metadata": {},
   "outputs": [],
   "source": [
    "# Create an object\n",
    "window= tk.Tk()\n",
    "\n",
    "# Create a frame / canvas : dimension => geometry()\n",
    "window.geometry(\"500x500\")\n",
    "window.configure(bg='cyan4')\n",
    "\n",
    "# Set title: 'Registration Form'\n",
    "window.title('Registration Form')\n",
    "\n",
    "\n",
    "# label 1: Registration Form : label()\n",
    "label_1=tk.Label(window, text = 'Registration Form', width=20, font=('Bold',20),bg='cyan4')\n",
    "label_1.place(x=100 , y=50)\n",
    "\n",
    "# label 2:Name\n",
    "label_2 =tk.Label(window, text = 'Name :', width=20, font=('Bold',12),fg='blue',bg='cyan4')\n",
    "label_2.place(x=20, y=150)\n",
    "\n",
    "# Add a Textbox : Entry()\n",
    "entry_1=tk.Entry(window, width=50)\n",
    "entry_1.place(x=150, y=150)\n",
    "\n",
    "# label 3: Address\n",
    "label_3 =tk.Label(window, text = 'Address :', width=20, font=('Bold',12),fg='blue',bg='cyan4')\n",
    "label_3.place(x=20, y=200)\n",
    "\n",
    "# Add a Textbox : Entry()\n",
    "entry_2=tk.Entry(window, width=50)\n",
    "entry_2.place(x=150, y=200)\n",
    "\n",
    "\n",
    "# label 4:Gender\n",
    "label_4 =tk.Label(window, text = 'Gender :', width=20, font=('Bold',12),fg='blue',bg='cyan4')\n",
    "label_4.place(x=20, y=250)\n",
    "\n",
    "# Radio Button : Radiobutton()\n",
    "r1=tk.Radiobutton(window, text=\"Male\", width=20, value=1).place(x=150, y=250)\n",
    "r2=tk.Radiobutton(window, text=\"Female\", width=20, value=0).place(x=275, y=250)\n",
    "\n",
    "\n",
    "# label 5: Course\n",
    "label_5 =tk.Label(window, text = 'Cource :', width=20, font=('Bold',12),fg='blue',bg='cyan4')\n",
    "label_5.place(x=20, y=300)\n",
    "\n",
    "# Check Buttons: Checkbutton() \n",
    "v1=IntVar()  # v1 will get initialize with 0\n",
    "tk.Checkbutton(window, text=\"Python\", width=20, font=('Bold',12), variable=v1).place(x=150,y=300)\n",
    "v2=IntVar() \n",
    "tk.Checkbutton(window, text=\"SQL\", width=20, font=('Bold',12), variable=v2).place(x=290,y=300)\n",
    "v3=IntVar() \n",
    "tk.Checkbutton(window, text=\"Java\", width=20, font=('Bold',12), variable=v3).place(x=140,y=320)\n",
    "v4=IntVar() \n",
    "tk.Checkbutton(window, text=\"DS\", width=20, font=('Bold',12), variable=v4).place(x=270,y=320)\n",
    "\n",
    "\n",
    "# label 6: Degree\n",
    "label_6=tk.Label(window, text = 'Qualification Degree :', width=20, font=('Bold',12),fg='blue',bg='cyan4')\n",
    "label_6.place(x=20, y=370)\n",
    "\n",
    "# Drop Down List : OptionMenu()\n",
    "l1=['BA','BCOM','BSC','BBA','BCA','MSC','B.Tech']\n",
    "droplist=tk.OptionMenu(window, StringVar(), *l1)\n",
    "droplist.config(width=20, font=('Bold',12) )\n",
    "StringVar().set('BA')\n",
    "droplist.place(x=200, y=370)\n",
    "\n",
    "    \n",
    "# Button : 'Submit'\n",
    "tk.Button(window, text=\"SUBMIT\",font=('Bold',20), bg='red', fg='black').place(x=225, y=430)\n",
    "\n",
    "\n",
    "window.mainloop()"
   ]
  },
  {
   "cell_type": "code",
   "execution_count": null,
   "id": "3da83790",
   "metadata": {},
   "outputs": [],
   "source": []
  }
 ],
 "metadata": {
  "kernelspec": {
   "display_name": "Python 3 (ipykernel)",
   "language": "python",
   "name": "python3"
  },
  "language_info": {
   "codemirror_mode": {
    "name": "ipython",
    "version": 3
   },
   "file_extension": ".py",
   "mimetype": "text/x-python",
   "name": "python",
   "nbconvert_exporter": "python",
   "pygments_lexer": "ipython3",
   "version": "3.11.3"
  }
 },
 "nbformat": 4,
 "nbformat_minor": 5
}
